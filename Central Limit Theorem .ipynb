{
 "cells": [
  {
   "cell_type": "code",
   "execution_count": 1,
   "id": "c4664eb7",
   "metadata": {},
   "outputs": [],
   "source": [
    "import numpy as np\n",
    "import pandas as pd\n",
    "import seaborn as sns\n",
    "import matplotlib.pyplot as plt"
   ]
  },
  {
   "cell_type": "code",
   "execution_count": 3,
   "id": "66b90cd7",
   "metadata": {},
   "outputs": [],
   "source": [
    "df = pd.read_csv('deliveries.csv')"
   ]
  },
  {
   "cell_type": "code",
   "execution_count": 4,
   "id": "4c8a6d8e",
   "metadata": {},
   "outputs": [
    {
     "data": {
      "text/html": [
       "<div>\n",
       "<style scoped>\n",
       "    .dataframe tbody tr th:only-of-type {\n",
       "        vertical-align: middle;\n",
       "    }\n",
       "\n",
       "    .dataframe tbody tr th {\n",
       "        vertical-align: top;\n",
       "    }\n",
       "\n",
       "    .dataframe thead th {\n",
       "        text-align: right;\n",
       "    }\n",
       "</style>\n",
       "<table border=\"1\" class=\"dataframe\">\n",
       "  <thead>\n",
       "    <tr style=\"text-align: right;\">\n",
       "      <th></th>\n",
       "      <th>match_id</th>\n",
       "      <th>inning</th>\n",
       "      <th>batting_team</th>\n",
       "      <th>bowling_team</th>\n",
       "      <th>over</th>\n",
       "      <th>ball</th>\n",
       "      <th>batsman</th>\n",
       "      <th>non_striker</th>\n",
       "      <th>bowler</th>\n",
       "      <th>is_super_over</th>\n",
       "      <th>...</th>\n",
       "      <th>bye_runs</th>\n",
       "      <th>legbye_runs</th>\n",
       "      <th>noball_runs</th>\n",
       "      <th>penalty_runs</th>\n",
       "      <th>batsman_runs</th>\n",
       "      <th>extra_runs</th>\n",
       "      <th>total_runs</th>\n",
       "      <th>player_dismissed</th>\n",
       "      <th>dismissal_kind</th>\n",
       "      <th>fielder</th>\n",
       "    </tr>\n",
       "  </thead>\n",
       "  <tbody>\n",
       "    <tr>\n",
       "      <th>0</th>\n",
       "      <td>1</td>\n",
       "      <td>1</td>\n",
       "      <td>Sunrisers Hyderabad</td>\n",
       "      <td>Royal Challengers Bangalore</td>\n",
       "      <td>1</td>\n",
       "      <td>1</td>\n",
       "      <td>DA Warner</td>\n",
       "      <td>S Dhawan</td>\n",
       "      <td>TS Mills</td>\n",
       "      <td>0</td>\n",
       "      <td>...</td>\n",
       "      <td>0</td>\n",
       "      <td>0</td>\n",
       "      <td>0</td>\n",
       "      <td>0</td>\n",
       "      <td>0</td>\n",
       "      <td>0</td>\n",
       "      <td>0</td>\n",
       "      <td>NaN</td>\n",
       "      <td>NaN</td>\n",
       "      <td>NaN</td>\n",
       "    </tr>\n",
       "    <tr>\n",
       "      <th>1</th>\n",
       "      <td>1</td>\n",
       "      <td>1</td>\n",
       "      <td>Sunrisers Hyderabad</td>\n",
       "      <td>Royal Challengers Bangalore</td>\n",
       "      <td>1</td>\n",
       "      <td>2</td>\n",
       "      <td>DA Warner</td>\n",
       "      <td>S Dhawan</td>\n",
       "      <td>TS Mills</td>\n",
       "      <td>0</td>\n",
       "      <td>...</td>\n",
       "      <td>0</td>\n",
       "      <td>0</td>\n",
       "      <td>0</td>\n",
       "      <td>0</td>\n",
       "      <td>0</td>\n",
       "      <td>0</td>\n",
       "      <td>0</td>\n",
       "      <td>NaN</td>\n",
       "      <td>NaN</td>\n",
       "      <td>NaN</td>\n",
       "    </tr>\n",
       "    <tr>\n",
       "      <th>2</th>\n",
       "      <td>1</td>\n",
       "      <td>1</td>\n",
       "      <td>Sunrisers Hyderabad</td>\n",
       "      <td>Royal Challengers Bangalore</td>\n",
       "      <td>1</td>\n",
       "      <td>3</td>\n",
       "      <td>DA Warner</td>\n",
       "      <td>S Dhawan</td>\n",
       "      <td>TS Mills</td>\n",
       "      <td>0</td>\n",
       "      <td>...</td>\n",
       "      <td>0</td>\n",
       "      <td>0</td>\n",
       "      <td>0</td>\n",
       "      <td>0</td>\n",
       "      <td>4</td>\n",
       "      <td>0</td>\n",
       "      <td>4</td>\n",
       "      <td>NaN</td>\n",
       "      <td>NaN</td>\n",
       "      <td>NaN</td>\n",
       "    </tr>\n",
       "    <tr>\n",
       "      <th>3</th>\n",
       "      <td>1</td>\n",
       "      <td>1</td>\n",
       "      <td>Sunrisers Hyderabad</td>\n",
       "      <td>Royal Challengers Bangalore</td>\n",
       "      <td>1</td>\n",
       "      <td>4</td>\n",
       "      <td>DA Warner</td>\n",
       "      <td>S Dhawan</td>\n",
       "      <td>TS Mills</td>\n",
       "      <td>0</td>\n",
       "      <td>...</td>\n",
       "      <td>0</td>\n",
       "      <td>0</td>\n",
       "      <td>0</td>\n",
       "      <td>0</td>\n",
       "      <td>0</td>\n",
       "      <td>0</td>\n",
       "      <td>0</td>\n",
       "      <td>NaN</td>\n",
       "      <td>NaN</td>\n",
       "      <td>NaN</td>\n",
       "    </tr>\n",
       "    <tr>\n",
       "      <th>4</th>\n",
       "      <td>1</td>\n",
       "      <td>1</td>\n",
       "      <td>Sunrisers Hyderabad</td>\n",
       "      <td>Royal Challengers Bangalore</td>\n",
       "      <td>1</td>\n",
       "      <td>5</td>\n",
       "      <td>DA Warner</td>\n",
       "      <td>S Dhawan</td>\n",
       "      <td>TS Mills</td>\n",
       "      <td>0</td>\n",
       "      <td>...</td>\n",
       "      <td>0</td>\n",
       "      <td>0</td>\n",
       "      <td>0</td>\n",
       "      <td>0</td>\n",
       "      <td>0</td>\n",
       "      <td>2</td>\n",
       "      <td>2</td>\n",
       "      <td>NaN</td>\n",
       "      <td>NaN</td>\n",
       "      <td>NaN</td>\n",
       "    </tr>\n",
       "  </tbody>\n",
       "</table>\n",
       "<p>5 rows × 21 columns</p>\n",
       "</div>"
      ],
      "text/plain": [
       "   match_id  inning         batting_team                 bowling_team  over  \\\n",
       "0         1       1  Sunrisers Hyderabad  Royal Challengers Bangalore     1   \n",
       "1         1       1  Sunrisers Hyderabad  Royal Challengers Bangalore     1   \n",
       "2         1       1  Sunrisers Hyderabad  Royal Challengers Bangalore     1   \n",
       "3         1       1  Sunrisers Hyderabad  Royal Challengers Bangalore     1   \n",
       "4         1       1  Sunrisers Hyderabad  Royal Challengers Bangalore     1   \n",
       "\n",
       "   ball    batsman non_striker    bowler  is_super_over  ...  bye_runs  \\\n",
       "0     1  DA Warner    S Dhawan  TS Mills              0  ...         0   \n",
       "1     2  DA Warner    S Dhawan  TS Mills              0  ...         0   \n",
       "2     3  DA Warner    S Dhawan  TS Mills              0  ...         0   \n",
       "3     4  DA Warner    S Dhawan  TS Mills              0  ...         0   \n",
       "4     5  DA Warner    S Dhawan  TS Mills              0  ...         0   \n",
       "\n",
       "   legbye_runs  noball_runs  penalty_runs  batsman_runs  extra_runs  \\\n",
       "0            0            0             0             0           0   \n",
       "1            0            0             0             0           0   \n",
       "2            0            0             0             4           0   \n",
       "3            0            0             0             0           0   \n",
       "4            0            0             0             0           2   \n",
       "\n",
       "   total_runs  player_dismissed dismissal_kind fielder  \n",
       "0           0               NaN            NaN     NaN  \n",
       "1           0               NaN            NaN     NaN  \n",
       "2           4               NaN            NaN     NaN  \n",
       "3           0               NaN            NaN     NaN  \n",
       "4           2               NaN            NaN     NaN  \n",
       "\n",
       "[5 rows x 21 columns]"
      ]
     },
     "execution_count": 4,
     "metadata": {},
     "output_type": "execute_result"
    }
   ],
   "source": [
    "df.head()"
   ]
  },
  {
   "cell_type": "code",
   "execution_count": 19,
   "id": "c70db8e7",
   "metadata": {},
   "outputs": [],
   "source": [
    "runs = df.groupby('batsman').sum()['batsman_runs']"
   ]
  },
  {
   "cell_type": "code",
   "execution_count": 20,
   "id": "7718bf49",
   "metadata": {},
   "outputs": [
    {
     "data": {
      "text/plain": [
       "batsman\n",
       "A Ashish Reddy     280\n",
       "A Chandila           4\n",
       "A Chopra            53\n",
       "A Choudhary         25\n",
       "A Flintoff          62\n",
       "                  ... \n",
       "YV Takawale        192\n",
       "Yashpal Singh       47\n",
       "Younis Khan          3\n",
       "Yuvraj Singh      2591\n",
       "Z Khan             117\n",
       "Name: batsman_runs, Length: 461, dtype: int64"
      ]
     },
     "execution_count": 20,
     "metadata": {},
     "output_type": "execute_result"
    }
   ],
   "source": [
    "runs"
   ]
  },
  {
   "cell_type": "code",
   "execution_count": 21,
   "id": "6fa4d0d5",
   "metadata": {},
   "outputs": [],
   "source": [
    "runs = runs.values"
   ]
  },
  {
   "cell_type": "code",
   "execution_count": 22,
   "id": "539f38f2",
   "metadata": {},
   "outputs": [
    {
     "name": "stderr",
     "output_type": "stream",
     "text": [
      "C:\\Users\\Ravindra\\anaconda3\\lib\\site-packages\\seaborn\\distributions.py:2557: FutureWarning: `distplot` is a deprecated function and will be removed in a future version. Please adapt your code to use either `displot` (a figure-level function with similar flexibility) or `histplot` (an axes-level function for histograms).\n",
      "  warnings.warn(msg, FutureWarning)\n"
     ]
    },
    {
     "data": {
      "text/plain": [
       "<AxesSubplot:ylabel='Density'>"
      ]
     },
     "execution_count": 22,
     "metadata": {},
     "output_type": "execute_result"
    },
    {
     "data": {
      "image/png": "[encoded data removed]",
      "text/plain": [
       "<Figure size 432x288 with 1 Axes>"
      ]
     },
     "metadata": {
      "needs_background": "light"
     },
     "output_type": "display_data"
    }
   ],
   "source": [
    "sns.distplot(runs)"
   ]
  },
  {
   "cell_type": "code",
   "execution_count": 23,
   "id": "f62d22d8",
   "metadata": {},
   "outputs": [],
   "source": [
    "# n = 50/461, batsman taken per sample\n",
    "# m = 1000, number of times sampling done"
   ]
  },
  {
   "cell_type": "code",
   "execution_count": 24,
   "id": "44db6f7c",
   "metadata": {},
   "outputs": [
    {
     "data": {
      "text/plain": [
       "array([676,  67, 106,  53,   2], dtype=int64)"
      ]
     },
     "execution_count": 24,
     "metadata": {},
     "output_type": "execute_result"
    }
   ],
   "source": [
    "np.random.choice(runs,size=5)"
   ]
  },
  {
   "cell_type": "code",
   "execution_count": 25,
   "id": "138eb29f",
   "metadata": {},
   "outputs": [],
   "source": [
    "m = 1000\n",
    "n = 50\n",
    "\n",
    "new = []\n",
    "\n",
    "for i in range(m):\n",
    "    x=np.random.choice(runs,size=n)\n",
    "    new.append(x.mean())"
   ]
  },
  {
   "cell_type": "code",
   "execution_count": 31,
   "id": "9808276a",
   "metadata": {},
   "outputs": [
    {
     "data": {
      "text/plain": [
       "1000"
      ]
     },
     "execution_count": 31,
     "metadata": {},
     "output_type": "execute_result"
    }
   ],
   "source": [
    "len(new)"
   ]
  },
  {
   "cell_type": "code",
   "execution_count": 33,
   "id": "ccde79d1",
   "metadata": {},
   "outputs": [
    {
     "data": {
      "text/plain": [
       "array([540.18, 201.1 , 401.7 , 572.48, 592.22, 463.44, 350.68, 371.72,\n",
       "       294.66, 289.46, 328.98, 611.18, 371.94, 407.76, 330.12, 297.12,\n",
       "       569.18, 282.62, 475.8 , 454.4 , 418.94, 227.78, 217.4 , 374.24,\n",
       "       320.56, 280.28, 358.46, 349.4 , 393.46, 392.46, 392.66, 284.94,\n",
       "       568.4 , 433.68, 404.48, 636.46, 563.58, 576.26, 192.56, 332.2 ,\n",
       "       345.68, 572.28, 371.  , 310.06, 342.74, 495.8 , 167.84, 334.08,\n",
       "       381.84, 548.78, 389.18, 274.32, 438.36, 470.54, 464.1 , 486.84,\n",
       "       408.2 , 391.2 , 321.16, 404.72, 384.3 , 279.58, 381.56, 513.74,\n",
       "       439.72, 293.56, 333.68, 357.  , 366.82, 307.02, 351.88, 565.28,\n",
       "       398.2 , 223.26, 407.92, 495.62, 387.94, 285.7 , 549.78, 301.18,\n",
       "       453.88, 208.48, 522.28, 435.96, 454.5 , 270.96, 613.48, 486.7 ,\n",
       "       437.64, 482.58, 235.48, 503.78, 224.8 , 357.  , 451.  , 307.82,\n",
       "       318.24, 306.78, 314.38, 544.22, 416.48, 413.98, 499.54, 456.36,\n",
       "       258.2 , 750.94, 290.12, 282.62, 440.  , 361.32, 280.84, 367.84,\n",
       "       412.28, 419.44, 402.46, 651.98, 435.26, 319.18, 418.3 , 284.62,\n",
       "       388.7 , 492.26, 358.62, 376.74, 217.38, 371.24, 251.16, 397.6 ,\n",
       "       308.82, 617.08, 398.64, 447.44, 417.8 , 490.52, 419.68, 397.62,\n",
       "       469.14, 307.8 , 302.08, 399.62, 282.36, 295.1 , 597.88, 266.02,\n",
       "       487.26, 373.18, 483.46, 424.5 , 425.2 , 509.82, 297.5 , 403.08,\n",
       "       420.76, 206.34, 417.12, 189.18, 322.92, 352.78, 379.7 , 375.38,\n",
       "       376.38, 340.36, 346.84, 518.06, 482.24, 443.14, 340.92, 442.  ,\n",
       "       482.6 , 321.02, 457.74, 353.  , 432.7 , 419.52, 354.28, 206.94,\n",
       "       262.86, 389.34, 355.96, 666.72, 320.02, 402.48, 408.52, 185.22,\n",
       "       550.64, 616.78, 666.98, 403.44, 460.04, 312.66, 489.3 , 579.84,\n",
       "       281.4 , 443.78, 632.46, 323.04, 582.9 , 487.02, 451.02, 301.28,\n",
       "       316.34, 390.46, 523.54, 524.14, 349.08, 538.24, 377.38, 554.72,\n",
       "       293.72, 527.28, 380.74, 429.08, 239.84, 217.36, 460.  , 610.4 ,\n",
       "       535.44, 381.04, 536.76, 309.86, 464.92, 345.58, 418.12, 408.32,\n",
       "       267.06, 354.36, 395.92, 359.28, 495.02, 416.38, 321.42, 358.32,\n",
       "       676.22, 413.38, 468.7 , 194.5 , 632.58, 245.58, 566.22, 451.98,\n",
       "       191.98, 302.28, 556.62, 227.82, 467.86, 339.22, 320.7 , 437.28,\n",
       "       370.5 , 401.78, 384.06, 431.3 , 546.28, 373.26, 302.38, 462.74,\n",
       "       499.7 , 521.4 , 357.06, 357.6 , 345.34, 337.86, 257.44, 441.64,\n",
       "       404.9 , 592.7 , 527.26, 396.74, 541.58, 314.02, 356.66, 418.26,\n",
       "       472.34, 352.26, 402.18, 272.68, 395.06, 223.4 , 511.8 , 419.24,\n",
       "       456.66, 382.06, 367.26, 421.62, 310.18, 476.64, 533.44, 313.68,\n",
       "       701.58, 380.14, 283.98, 363.9 , 461.8 , 471.1 , 326.36, 443.06,\n",
       "       395.02, 382.16, 352.44, 419.44, 502.18, 467.84, 454.16, 271.7 ,\n",
       "       479.24, 401.88, 526.88, 240.1 , 303.84, 398.3 , 231.96, 512.1 ,\n",
       "       522.  , 527.02, 440.52, 420.94, 337.58, 332.16, 407.76, 399.1 ,\n",
       "       276.94, 314.64, 225.3 , 470.72, 329.32, 520.86, 563.88, 371.56,\n",
       "       158.3 , 475.64, 324.48, 368.14, 409.38, 249.56, 336.58, 523.74,\n",
       "       414.74, 178.42, 392.86, 460.96, 373.02, 268.82, 543.56, 475.18,\n",
       "       686.84, 278.1 , 341.78, 391.62, 562.02, 488.74, 383.52, 285.88,\n",
       "       458.34, 532.82, 400.04, 255.32, 316.96, 396.24, 416.34, 349.8 ,\n",
       "       377.2 , 398.64, 533.76, 528.94, 431.7 , 300.08, 654.82, 450.  ,\n",
       "       443.64, 370.78, 455.  , 471.16, 342.72, 360.36, 496.82, 400.34,\n",
       "       506.14, 412.92, 372.1 , 503.24, 379.46, 368.6 , 293.44, 322.62,\n",
       "       395.36, 334.32, 599.42, 422.46, 126.6 , 329.42, 374.24, 341.38,\n",
       "       556.9 , 441.96, 385.48, 231.38, 513.4 , 565.1 , 571.56, 518.26,\n",
       "       244.44, 398.72, 576.38, 236.62, 320.92, 325.68, 435.78, 451.36,\n",
       "       443.1 , 229.1 , 424.78, 419.66, 608.46, 507.74, 511.98, 436.78,\n",
       "       409.02, 397.74, 206.18, 204.14, 447.9 , 324.9 , 473.06, 281.88,\n",
       "       351.44, 365.32, 201.24, 331.44, 363.94, 395.88, 539.5 , 631.8 ,\n",
       "       308.2 , 479.16, 484.78, 306.24, 443.86, 356.38, 255.3 , 348.74,\n",
       "       587.94, 376.74, 441.68, 190.42, 401.24, 461.02, 256.16, 280.38,\n",
       "       622.  , 679.66, 280.94, 417.88, 530.46, 614.18, 440.76, 424.4 ,\n",
       "       329.  , 289.56, 564.18, 242.98, 323.64, 407.04, 409.38, 427.3 ,\n",
       "       330.48, 314.7 , 302.88, 321.26, 448.08, 512.84, 389.06, 362.76,\n",
       "       250.44, 463.72, 447.3 , 235.64, 582.06, 479.18, 277.9 , 383.26,\n",
       "       326.84, 379.38, 167.34, 455.46, 498.52, 248.66, 510.04, 437.8 ,\n",
       "       351.48, 531.54, 296.  , 600.72, 434.46, 468.48, 609.2 , 382.38,\n",
       "       331.22, 372.56, 415.5 , 179.12, 427.96, 254.52, 522.84, 480.12,\n",
       "       339.28, 335.7 , 279.74, 330.52, 533.66, 330.54, 435.84, 449.06,\n",
       "       452.12, 262.02, 353.8 , 378.86, 417.9 , 187.18, 402.58, 283.84,\n",
       "       485.34, 334.32, 316.32, 548.9 , 329.98, 420.96, 239.1 , 557.2 ,\n",
       "       302.44, 342.06, 322.2 , 360.6 , 359.94, 456.84, 547.22, 332.44,\n",
       "       526.14, 527.84, 195.68, 557.06, 309.64, 402.1 , 324.74, 510.42,\n",
       "       406.76, 499.34, 301.38, 376.4 , 393.28, 232.76, 401.8 , 395.56,\n",
       "       441.  , 342.02, 412.04, 289.28, 656.46, 544.52, 519.76, 285.32,\n",
       "       229.  , 545.7 , 434.94, 304.7 , 241.9 , 319.7 , 338.3 , 327.76,\n",
       "       281.96, 258.7 , 350.54, 351.56, 386.48, 259.8 , 607.24, 266.42,\n",
       "       250.4 , 233.76, 224.14, 422.48, 402.22, 277.78, 412.2 , 251.48,\n",
       "       363.1 , 384.86, 295.24, 378.3 , 352.64, 422.26, 533.32, 411.88,\n",
       "       324.98, 573.56, 499.8 , 390.36, 265.48, 297.52, 171.36, 464.7 ,\n",
       "       358.78, 616.26, 303.  , 455.84, 292.82, 542.14, 431.06, 329.16,\n",
       "       291.88, 383.56, 462.98, 315.88, 338.74, 387.26, 289.04, 426.16,\n",
       "       484.94, 579.5 , 415.04, 447.14, 577.42, 450.84, 220.94, 378.34,\n",
       "       419.56, 422.72, 353.28, 482.28, 482.28, 378.86, 347.94, 363.22,\n",
       "       482.74, 435.18, 606.6 , 432.76, 275.02, 332.76, 393.26, 433.72,\n",
       "       200.42, 344.72, 392.46, 523.3 , 257.98, 211.92, 386.48, 191.9 ,\n",
       "       301.18, 466.16, 376.86, 381.22, 310.16, 428.24, 462.34, 411.26,\n",
       "       427.32, 502.84, 354.26, 476.44, 311.08, 336.38, 499.7 , 504.94,\n",
       "       285.38, 649.18, 341.92, 613.58, 368.82, 587.26, 454.64, 695.04,\n",
       "       599.58, 323.26, 343.98, 299.92, 364.22, 461.72, 428.64, 321.44,\n",
       "       549.82, 388.06, 267.02, 491.34, 452.28, 287.44, 255.  , 388.58,\n",
       "       526.56, 279.46, 445.  , 538.2 , 324.86, 498.82, 439.04, 496.84,\n",
       "       346.74, 480.76, 320.08, 367.32, 325.26, 535.2 , 363.04, 547.84,\n",
       "       486.28, 535.22, 472.94, 367.74, 274.5 , 325.26, 275.92, 309.46,\n",
       "       255.18, 349.32, 458.44, 343.36, 401.04, 416.22, 261.42, 408.14,\n",
       "       576.14, 431.4 , 382.56, 310.6 , 339.3 , 243.52, 239.58, 405.98,\n",
       "       446.3 , 292.42, 569.58, 328.74, 593.44, 308.74, 423.58, 542.72,\n",
       "       392.22, 324.22, 398.2 , 345.58, 342.22, 401.12, 459.32, 430.22,\n",
       "       458.12, 394.22, 342.32, 422.98, 562.02, 627.1 , 589.34, 426.76,\n",
       "       392.3 , 298.1 , 471.64, 407.7 , 237.2 , 298.08, 351.96, 360.52,\n",
       "       546.94, 264.88, 368.44, 230.96, 453.26, 768.86, 238.  , 606.74,\n",
       "       352.12, 428.92, 445.16, 532.92, 314.56, 365.38, 329.04, 353.96,\n",
       "       407.76, 477.9 , 657.92, 515.64, 365.02, 269.  , 347.62, 365.82,\n",
       "       424.22, 463.92, 270.4 , 462.48, 362.42, 327.36, 281.52, 383.5 ,\n",
       "       391.74, 299.58, 458.24, 515.  , 464.82, 293.04, 250.7 , 453.02,\n",
       "       403.78, 394.3 , 570.44, 392.  , 598.28, 257.82, 299.82, 377.24,\n",
       "       594.46, 196.06, 386.7 , 326.66, 560.32, 280.72, 323.54, 448.06,\n",
       "       543.9 , 547.6 , 515.16, 472.78, 589.8 , 487.68, 276.22, 376.08,\n",
       "       452.6 , 261.44, 317.14, 322.06, 417.  , 358.06, 390.44, 486.62,\n",
       "       503.  , 358.74, 461.16, 410.88, 190.76, 440.38, 207.62, 499.86,\n",
       "       458.28, 340.18, 261.66, 719.72, 398.94, 317.04, 404.28, 382.02,\n",
       "       598.54, 506.08, 478.62, 468.88, 432.02, 435.44, 454.1 , 431.14,\n",
       "       342.96, 439.58, 472.46, 455.54, 317.46, 534.8 , 386.44, 499.16,\n",
       "       233.94, 298.7 , 243.1 , 328.18, 266.52, 296.96, 343.1 , 248.2 ,\n",
       "       585.86, 426.  , 386.52, 463.14, 392.64, 268.3 , 358.68, 508.04,\n",
       "       591.6 , 246.42, 400.14, 201.28, 521.78, 502.36, 550.7 , 468.72,\n",
       "       519.8 , 320.04, 378.2 , 528.7 , 395.38, 447.42, 295.94, 290.42,\n",
       "       405.48, 358.66, 235.48, 423.5 , 436.28, 366.62, 362.54, 297.28,\n",
       "       433.56, 494.96, 469.52, 424.8 , 610.66, 253.88, 287.3 , 373.46,\n",
       "       307.56, 312.56, 557.52, 295.64, 328.74, 531.58, 291.3 , 368.82,\n",
       "       237.04, 353.66, 369.58, 226.58, 451.04, 394.74, 278.12, 512.32,\n",
       "       267.24, 338.5 , 503.56, 359.76, 283.98, 324.52, 375.16, 345.56,\n",
       "       560.  , 161.46, 367.38, 393.96, 555.38, 337.92, 392.56, 249.98,\n",
       "       262.04, 545.02, 463.32, 231.6 , 477.14, 725.22, 302.62, 379.7 ,\n",
       "       444.42, 465.02, 171.96, 230.84, 658.68, 636.38, 453.6 , 391.06,\n",
       "       434.36, 525.98, 365.24, 247.5 , 444.36, 229.76, 347.96, 256.48,\n",
       "       482.56, 493.76, 343.94, 407.44, 572.84, 246.48, 350.36, 371.66,\n",
       "       411.72, 381.82, 452.42, 370.08, 491.58, 332.1 , 325.44, 379.98,\n",
       "       387.14, 385.72, 415.1 , 511.18, 432.74, 370.18, 403.54, 347.92,\n",
       "       519.58, 327.12, 320.74, 383.36, 446.58, 383.44, 462.62, 229.02])"
      ]
     },
     "execution_count": 33,
     "metadata": {},
     "output_type": "execute_result"
    }
   ],
   "source": [
    "new"
   ]
  },
  {
   "cell_type": "code",
   "execution_count": 32,
   "id": "71ae98a0",
   "metadata": {},
   "outputs": [
    {
     "name": "stderr",
     "output_type": "stream",
     "text": [
      "C:\\Users\\Ravindra\\anaconda3\\lib\\site-packages\\seaborn\\distributions.py:2557: FutureWarning: `distplot` is a deprecated function and will be removed in a future version. Please adapt your code to use either `displot` (a figure-level function with similar flexibility) or `histplot` (an axes-level function for histograms).\n",
      "  warnings.warn(msg, FutureWarning)\n"
     ]
    },
    {
     "data": {
      "text/plain": [
       "<AxesSubplot:ylabel='Density'>"
      ]
     },
     "execution_count": 32,
     "metadata": {},
     "output_type": "execute_result"
    },
    {
     "data": {
      "image/png": "[encoded data removed]",
      "text/plain": [
       "<Figure size 432x288 with 1 Axes>"
      ]
     },
     "metadata": {
      "needs_background": "light"
     },
     "output_type": "display_data"
    }
   ],
   "source": [
    "sns.distplot(new)"
   ]
  },
  {
   "cell_type": "code",
   "execution_count": 34,
   "id": "a81b0f47",
   "metadata": {},
   "outputs": [
    {
     "data": {
      "text/plain": [
       "398.9783080260304"
      ]
     },
     "execution_count": 34,
     "metadata": {},
     "output_type": "execute_result"
    }
   ],
   "source": [
    "runs.mean()"
   ]
  },
  {
   "cell_type": "code",
   "execution_count": 35,
   "id": "a9f9159a",
   "metadata": {},
   "outputs": [
    {
     "data": {
      "text/plain": [
       "398.68576"
      ]
     },
     "execution_count": 35,
     "metadata": {},
     "output_type": "execute_result"
    }
   ],
   "source": [
    "new.mean()"
   ]
  },
  {
   "cell_type": "code",
   "execution_count": 41,
   "id": "40354c3a",
   "metadata": {},
   "outputs": [
    {
     "data": {
      "text/plain": [
       "110.50577534813586"
      ]
     },
     "execution_count": 41,
     "metadata": {},
     "output_type": "execute_result"
    }
   ],
   "source": [
    "runs.std()/7.1"
   ]
  },
  {
   "cell_type": "code",
   "execution_count": 42,
   "id": "787e8e38",
   "metadata": {},
   "outputs": [
    {
     "data": {
      "text/plain": [
       "107.7783370015626"
      ]
     },
     "execution_count": 42,
     "metadata": {},
     "output_type": "execute_result"
    }
   ],
   "source": [
    "new.std()"
   ]
  }
 ],
 "metadata": {
  "kernelspec": {
   "display_name": "Python 3",
   "language": "python",
   "name": "python3"
  },
  "language_info": {
   "codemirror_mode": {
    "name": "ipython",
    "version": 3
   },
   "file_extension": ".py",
   "mimetype": "text/x-python",
   "name": "python",
   "nbconvert_exporter": "python",
   "pygments_lexer": "ipython3",
   "version": "3.8.8"
  }
 },
 "nbformat": 4,
 "nbformat_minor": 5
}
